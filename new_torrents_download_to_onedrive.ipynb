{
  "nbformat": 4,
  "nbformat_minor": 0,
  "metadata": {
    "colab": {
      "name": "new torrents download to onedrive.ipynb",
      "provenance": [],
      "collapsed_sections": [
        "bBgmZJTe4Xkj"
      ],
      "include_colab_link": true
    },
    "kernelspec": {
      "name": "python3",
      "display_name": "Python 3"
    },
    "language_info": {
      "name": "python"
    }
  },
  "cells": [
    {
      "cell_type": "markdown",
      "metadata": {
        "id": "view-in-github",
        "colab_type": "text"
      },
      "source": [
        "<a href=\"https://colab.research.google.com/github/khosa76/11/blob/main/new_torrents_download_to_onedrive.ipynb\" target=\"_parent\"><img src=\"https://colab.research.google.com/assets/colab-badge.svg\" alt=\"Open In Colab\"/></a>"
      ]
    },
    {
      "cell_type": "markdown",
      "metadata": {
        "id": "3rEItGYsNqvm"
      },
      "source": [
        "<font color='red'> Rclone </font> - download rclone in your operating system download link= https://rclone.org/downloads/\n"
      ]
    },
    {
      "cell_type": "code",
      "metadata": {
        "id": "967x0RwzyWCb",
        "colab": {
          "base_uri": "https://localhost:8080/"
        },
        "outputId": "f713d1b9-f3b8-4b12-86ca-9e0ec9d3f5ab",
        "collapsed": true
      },
      "source": [
        "!python -m pip install --upgrade pip setuptools wheel\n",
        "!python -m pip install lbry-libtorrent\n",
        "!wget https://downloads.rclone.org/v1.52.1/rclone-v1.52.1-linux-amd64.deb\n",
        "!apt install ./rclone-v1.52.1-linux-amd64.deb"
      ],
      "execution_count": 2,
      "outputs": [
        {
          "output_type": "stream",
          "name": "stdout",
          "text": [
            "Requirement already satisfied: pip in /usr/local/lib/python3.10/dist-packages (24.3.1)\n",
            "Requirement already satisfied: setuptools in /usr/local/lib/python3.10/dist-packages (75.6.0)\n",
            "Requirement already satisfied: wheel in /usr/local/lib/python3.10/dist-packages (0.45.1)\n",
            "Requirement already satisfied: lbry-libtorrent in /usr/local/lib/python3.10/dist-packages (1.2.4)\n",
            "--2024-12-07 05:26:36--  https://downloads.rclone.org/v1.52.1/rclone-v1.52.1-linux-amd64.deb\n",
            "Resolving downloads.rclone.org (downloads.rclone.org)... 95.217.6.16, 2a01:4f9:c012:7154::1\n",
            "Connecting to downloads.rclone.org (downloads.rclone.org)|95.217.6.16|:443... connected.\n",
            "HTTP request sent, awaiting response... 200 OK\n",
            "Length: 13904596 (13M) [application/vnd.debian.binary-package]\n",
            "Saving to: ‘rclone-v1.52.1-linux-amd64.deb.1’\n",
            "\n",
            "rclone-v1.52.1-linu 100%[===================>]  13.26M  9.67MB/s    in 1.4s    \n",
            "\n",
            "2024-12-07 05:26:38 (9.67 MB/s) - ‘rclone-v1.52.1-linux-amd64.deb.1’ saved [13904596/13904596]\n",
            "\n",
            "Reading package lists... Done\n",
            "Building dependency tree... Done\n",
            "Reading state information... Done\n",
            "Note, selecting 'rclone' instead of './rclone-v1.52.1-linux-amd64.deb'\n",
            "rclone is already the newest version (1.52.1).\n",
            "0 upgraded, 0 newly installed, 0 to remove and 49 not upgraded.\n"
          ]
        }
      ]
    },
    {
      "cell_type": "markdown",
      "metadata": {
        "id": "IMgeaazpytxI"
      },
      "source": [
        "# <font color='orange'>Authenticate One Drive </font> </font>"
      ]
    },
    {
      "cell_type": "code",
      "metadata": {
        "id": "FD9JXMdiyiFH",
        "colab": {
          "base_uri": "https://localhost:8080/"
        },
        "outputId": "7d70b5bb-684f-4234-e381-01180af4192c"
      },
      "source": [
        "!rclone config      #add your onedrive"
      ],
      "execution_count": 10,
      "outputs": [
        {
          "output_type": "stream",
          "name": "stdout",
          "text": [
            "Current remotes:\n",
            "\n",
            "Name                 Type\n",
            "====                 ====\n",
            "onedrive             onedrive\n",
            "\n",
            "e) Edit existing remote\n",
            "n) New remote\n",
            "d) Delete remote\n",
            "r) Rename remote\n",
            "c) Copy remote\n",
            "s) Set configuration password\n",
            "q) Quit config\n",
            "e/n/d/r/c/s/q> q\n"
          ]
        }
      ]
    },
    {
      "cell_type": "markdown",
      "metadata": {
        "id": "eqVwKRRQycuK"
      },
      "source": [
        "# 3.Rclone<font color='yellow'>  Mount one drive"
      ]
    },
    {
      "cell_type": "code",
      "metadata": {
        "id": "UuAga4Edymzm",
        "colab": {
          "base_uri": "https://localhost:8080/"
        },
        "outputId": "442c86d5-a3da-4413-be79-8faf786c3752"
      },
      "source": [
        "!mkdir onedrive123\n",
        "!nohup rclone --vfs-cache-mode writes mount onedrive: ./onedrive123 &"
      ],
      "execution_count": 12,
      "outputs": [
        {
          "output_type": "stream",
          "name": "stdout",
          "text": [
            "nohup: appending output to 'nohup.out'\n"
          ]
        }
      ]
    },
    {
      "cell_type": "markdown",
      "metadata": {
        "id": "RRnxqKfoD1bO"
      },
      "source": [
        "check onedrive mounted"
      ]
    },
    {
      "cell_type": "code",
      "metadata": {
        "id": "Fil_bHuAD8S3",
        "collapsed": true,
        "colab": {
          "base_uri": "https://localhost:8080/"
        },
        "outputId": "184187c1-de81-476f-bb7f-45cf183062f2"
      },
      "source": [
        "!ls ./onedrive123    #after sucessfully mounted onedrive then show your onedrive folders and files"
      ],
      "execution_count": 13,
      "outputs": [
        {
          "output_type": "stream",
          "name": "stdout",
          "text": [
            " 12\n",
            " 12-12-20000.xlsx\n",
            " 30\n",
            " Apps\n",
            " Attachments\n",
            " Book123.xlsx\n",
            "'Book1 (version 1).xlsb.xlsx'\n",
            " Book1.xlsx\n",
            " canadaplancalander.docx\n",
            "'canada plan.xlsx'\n",
            " dailyplan.xlsx\n",
            " downloads\n",
            " followerdate.xlsx\n",
            "'Kanguva 2024 [1080p V1 WEB-DL [CLEAN AAC Hindi + ORG TAMIL] xDark [MoviesUp]'\n",
            " khosa\n",
            " Khosa221\n",
            " kumar\n",
            " lectures.xlsx\n",
            "'Manual 2.pdf'\n",
            "'Night.CX - Refund List.xlsx'\n",
            " offlineonlinelist.xlsx\n",
            " OnedriveXbot\n",
            "'option trade.xlsx'\n",
            "'quick trade.xlsx'\n",
            "'Scan from 2024-11-23 02_45_09 PM.pdf'\n",
            "'The Road Not Taken.pptx'\n",
            " tv.xlsx\n",
            "'UNKNOWN DEVIL COURSE 🤗'\n",
            "'whatsapp number.xlsx'\n",
            " worksheet2.1.xlsx\n"
          ]
        }
      ]
    },
    {
      "cell_type": "markdown",
      "metadata": {
        "id": "kDDLXWX5xNce"
      },
      "source": [
        "# 4.Add <font color='orange'> magnet link/Torrent  <img src='https://libtorrent.org/img/logo-color-text.png' height=\"45\" alt=\"RcloneLab\"/>\n"
      ]
    },
    {
      "cell_type": "code",
      "metadata": {
        "id": "I7-OMxPiw8ms",
        "colab": {
          "base_uri": "https://localhost:8080/"
        },
        "outputId": "4d93975c-4409-4c45-8fff-9e516be8882f"
      },
      "source": [
        "!mkdir Torrent\n",
        "\n",
        "link = input(\"PASTE TORRENT/MAGNET LINK HERE \\n\") # PASTE TORRENT/MAGNET LINK HERE\n",
        "\n",
        "import libtorrent as lt\n",
        "import time\n",
        "import datetime\n",
        "\n",
        "ses = lt.session()\n",
        "ses.listen_on(6881, 6891)\n",
        "params = {\n",
        "    'save_path': './Torrent/',\n",
        "    'storage_mode': lt.storage_mode_t(2)}\n",
        "\n",
        "print(link)\n",
        "\n",
        "handle = lt.add_magnet_uri(ses, link, params)\n",
        "ses.start_dht()\n",
        "\n",
        "begin = time.time()\n",
        "print(datetime.datetime.now())\n",
        "\n",
        "print ('Downloading Metadata...')\n",
        "while (not handle.has_metadata()):\n",
        "    time.sleep(1)\n",
        "print ('Got Metadata, Starting Torrent Download...')\n",
        "\n",
        "print(\"Starting\", handle.name())\n",
        "\n",
        "while (handle.status().state != lt.torrent_status.seeding):\n",
        "    s = handle.status()\n",
        "    state_str = ['queued', 'checking', 'downloading metadata', \\\n",
        "            'downloading', 'finished', 'seeding', 'allocating']\n",
        "    print ('%.2f%% complete (down: %.1f kb/s up: %.1f kB/s peers: %d) %s ' % \\\n",
        "            (s.progress * 100, s.download_rate / 1000, s.upload_rate / 1000, \\\n",
        "            s.num_peers, state_str[s.state]))\n",
        "    time.sleep(5)\n",
        "\n",
        "end = time.time()\n",
        "print(handle.name(), \"COMPLETE\")\n",
        "\n",
        "print(\"Elapsed Time: \",int((end-begin)//60),\"min :\", int((end-begin)%60), \"sec\")\n",
        "\n",
        "print(datetime.datetime.now())\n",
        "\n"
      ],
      "execution_count": 7,
      "outputs": [
        {
          "output_type": "stream",
          "name": "stdout",
          "text": [
            "mkdir: cannot create directory ‘Torrent’: File exists\n",
            "PASTE TORRENT/MAGNET LINK HERE \n",
            "magnet:?xt=urn:btih:75A2DCA3EDF7E22BADF2E537729C3965386E5D0B&dn=Silo.S02E04.1080p.x265-ELiTE&tr=udp%3A%2F%2Ftracker.torrent.eu.org%3A451%2Fannounce&tr=udp%3A%2F%2Fopen.stealth.si%3A80%2Fannounce&tr=udp%3A%2F%2Ftracker.opentrackr.org%3A1337%2Fannounce&tr=udp%3A%2F%2Fexplodie.org%3A6969%2Fannounce&tr=udp%3A%2F%2Ftracker.tiny-vps.com%3A6969%2Fannounce&tr=udp%3A%2F%2Fodd-hd.fr%3A6969%2Fannounce&tr=http%3A%2F%2Ftracker.files.fm%3A6969%2Fannounce&tr=udp%3A%2F%2Ftracker.opentrackr.org%3A1337%2Fannounce&tr=http%3A%2F%2Ftracker.openbittorrent.com%3A80%2Fannounce&tr=udp%3A%2F%2Fopentracker.i2p.rocks%3A6969%2Fannounce&tr=udp%3A%2F%2Ftracker.internetwarriors.net%3A1337%2Fannounce&tr=udp%3A%2F%2Ftracker.leechers-paradise.org%3A6969%2Fannounce&tr=udp%3A%2F%2Fcoppersurfer.tk%3A6969%2Fannounce&tr=udp%3A%2F%2Ftracker.zer0day.to%3A1337%2Fannounce\n",
            "magnet:?xt=urn:btih:75A2DCA3EDF7E22BADF2E537729C3965386E5D0B&dn=Silo.S02E04.1080p.x265-ELiTE&tr=udp%3A%2F%2Ftracker.torrent.eu.org%3A451%2Fannounce&tr=udp%3A%2F%2Fopen.stealth.si%3A80%2Fannounce&tr=udp%3A%2F%2Ftracker.opentrackr.org%3A1337%2Fannounce&tr=udp%3A%2F%2Fexplodie.org%3A6969%2Fannounce&tr=udp%3A%2F%2Ftracker.tiny-vps.com%3A6969%2Fannounce&tr=udp%3A%2F%2Fodd-hd.fr%3A6969%2Fannounce&tr=http%3A%2F%2Ftracker.files.fm%3A6969%2Fannounce&tr=udp%3A%2F%2Ftracker.opentrackr.org%3A1337%2Fannounce&tr=http%3A%2F%2Ftracker.openbittorrent.com%3A80%2Fannounce&tr=udp%3A%2F%2Fopentracker.i2p.rocks%3A6969%2Fannounce&tr=udp%3A%2F%2Ftracker.internetwarriors.net%3A1337%2Fannounce&tr=udp%3A%2F%2Ftracker.leechers-paradise.org%3A6969%2Fannounce&tr=udp%3A%2F%2Fcoppersurfer.tk%3A6969%2Fannounce&tr=udp%3A%2F%2Ftracker.zer0day.to%3A1337%2Fannounce\n",
            "2024-12-07 05:32:36.980039\n",
            "Downloading Metadata...\n",
            "Got Metadata, Starting Torrent Download...\n",
            "Starting Silo.S02E04.1080p.x265-ELiTE\n",
            "0.07% complete (down: 7.6 kb/s up: 0.7 kB/s peers: 4) downloading \n",
            "2.88% complete (down: 1738.8 kb/s up: 66.4 kB/s peers: 8) downloading \n",
            "7.49% complete (down: 3544.9 kb/s up: 139.8 kB/s peers: 14) downloading \n",
            "11.21% complete (down: 3501.2 kb/s up: 147.8 kB/s peers: 15) downloading \n",
            "15.25% complete (down: 3679.3 kb/s up: 154.5 kB/s peers: 20) downloading \n",
            "19.18% complete (down: 3615.6 kb/s up: 149.3 kB/s peers: 33) downloading \n",
            "23.94% complete (down: 4372.0 kb/s up: 177.5 kB/s peers: 42) downloading \n",
            "28.66% complete (down: 4133.9 kb/s up: 168.3 kB/s peers: 49) downloading \n",
            "32.65% complete (down: 4064.7 kb/s up: 169.7 kB/s peers: 45) downloading \n",
            "37.42% complete (down: 4224.6 kb/s up: 174.7 kB/s peers: 50) downloading \n",
            "42.37% complete (down: 4570.9 kb/s up: 189.9 kB/s peers: 53) downloading \n",
            "47.30% complete (down: 4585.5 kb/s up: 190.8 kB/s peers: 62) downloading \n",
            "52.15% complete (down: 4670.5 kb/s up: 192.1 kB/s peers: 62) downloading \n",
            "56.81% complete (down: 4349.8 kb/s up: 184.9 kB/s peers: 65) downloading \n",
            "62.43% complete (down: 4884.2 kb/s up: 205.8 kB/s peers: 65) downloading \n",
            "68.13% complete (down: 5291.3 kb/s up: 219.8 kB/s peers: 69) downloading \n",
            "73.06% complete (down: 5017.8 kb/s up: 207.1 kB/s peers: 70) downloading \n",
            "78.53% complete (down: 5103.6 kb/s up: 213.4 kB/s peers: 77) downloading \n",
            "83.48% complete (down: 4916.3 kb/s up: 208.3 kB/s peers: 88) downloading \n",
            "88.39% complete (down: 4584.9 kb/s up: 203.3 kB/s peers: 93) downloading \n",
            "93.30% complete (down: 4672.9 kb/s up: 209.8 kB/s peers: 108) downloading \n",
            "97.23% complete (down: 4227.3 kb/s up: 197.9 kB/s peers: 116) downloading \n",
            "99.99% complete (down: 3768.9 kb/s up: 188.4 kB/s peers: 120) downloading \n",
            "Silo.S02E04.1080p.x265-ELiTE COMPLETE\n",
            "Elapsed Time:  1 min : 58 sec\n",
            "2024-12-07 05:34:35.424954\n"
          ]
        }
      ]
    },
    {
      "cell_type": "code",
      "source": [
        "!cp -r Torrent/* onedrive123/"
      ],
      "metadata": {
        "id": "fg5OwhoSsMSq"
      },
      "execution_count": 14,
      "outputs": []
    },
    {
      "cell_type": "markdown",
      "metadata": {
        "id": "VhognXTLjXk7"
      },
      "source": [
        "<img src='https://cdn.dribbble.com/users/2760451/screenshots/5667639/file-transfer.gif' height=\"200\" />"
      ]
    }
  ]
}